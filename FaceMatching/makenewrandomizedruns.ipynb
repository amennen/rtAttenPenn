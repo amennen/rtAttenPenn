{
 "cells": [
  {
   "cell_type": "code",
   "execution_count": 1,
   "metadata": {
    "collapsed": true
   },
   "outputs": [],
   "source": [
    "import os, random\n",
    "import glob\n",
    "import csv\n",
    "\n",
    "# this makes the condition blocks"
   ]
  },
  {
   "cell_type": "code",
   "execution_count": 184,
   "metadata": {
    "collapsed": true
   },
   "outputs": [],
   "source": [
    "conditions=[\"happy\",\"fear\",\"neutral\"]\n",
    "folder=[\"rad\",\"nim\"]\n",
    "gender=[\"F\",\"M\",\"F\",\"M\",\"F\",\"M\"]\n",
    "left_rigth_F=[1,2]*27\n",
    "random.shuffle(left_rigth_F)\n",
    "left_rigth_M=[1,2]*27\n",
    "random.shuffle(left_rigth_M)\n",
    "F_order=0\n",
    "M_order=0\n",
    "# VERSION - either 1 or 2\n",
    "v = 2"
   ]
  },
  {
   "cell_type": "code",
   "execution_count": 185,
   "metadata": {
    "collapsed": false
   },
   "outputs": [
    {
     "name": "stdout",
     "output_type": "stream",
     "text": [
      "18\n",
      "18\n",
      "18\n",
      "18\n",
      "18\n",
      "18\n",
      "18\n",
      "18\n",
      "18\n",
      "18\n",
      "18\n",
      "18\n"
     ]
    }
   ],
   "source": [
    "for f in folder:\n",
    "    for c in conditions:\n",
    "        os.chdir('/Users/amennen/rtAttenPenn/FaceMatching/')\n",
    "        F= glob.glob('stimuli/'+c+'/F_'+f+'/'+c+'*jpg')\n",
    "        print(len(F))\n",
    " \n",
    "        random.shuffle(F)\n",
    "        F=F[0:18] #3 files in each you use 6 images\n",
    "        M= glob.glob('stimuli'+os.sep+c+os.sep+'M_'+f+os.sep+c+'*jpg')\n",
    "        print(len(M))\n",
    "        random.shuffle(M)\n",
    "\n",
    "        M=M[0:18]#3 files in each you use 6 images\n",
    "        # have this for 1\n",
    "        if v == 1:\n",
    "            run=\"A\" if f==\"rad\" else \"B\"\n",
    "        elif v == 2:\n",
    "            run=\"B\" if f==\"rad\" else \"A\"\n",
    "        row_F=0\n",
    "        row_M=0\n",
    "        \n",
    "        for i in range(1,4):\n",
    "            left_right_block = [1,2]*3\n",
    "            random.shuffle(left_right_block)\n",
    "            gender=['F','M']*3\n",
    "            random.shuffle(gender)\n",
    "            with open('/Users/amennen/rtAttenPenn/FaceMatching/blocks/ACM_'+str(v)+'_block_'+run+'_'+c+'_'+str(i)+'.csv', 'w') as csvfile:\n",
    "                condWriter = csv.writer(csvfile, delimiter=',',quotechar='|', quoting=csv.QUOTE_MINIMAL)\n",
    "                condWriter.writerow(('top_image','left_image', 'right_image','corr_ans'))\n",
    "                index = 0\n",
    "                for g in gender:\n",
    "                    if g=='F':\n",
    "                        if left_right_block[index]==1:\n",
    "                            condWriter.writerow( (F[row_F],F[row_F],F[row_F+1],'1'))\n",
    "                        else:\n",
    "                            condWriter.writerow( (F[row_F],F[row_F+1],F[row_F],'2'))\n",
    "                        row_F=row_F+2\n",
    "                        F_order+=1\n",
    "                    else:\n",
    "                        if left_right_block[index]==1:\n",
    "                            condWriter.writerow( (M[row_M],M[row_M],M[row_M+1],'1'))\n",
    "                        else:\n",
    "                            condWriter.writerow( (M[row_M],M[row_M+1],M[row_M],'2'))\n",
    "                        row_M=row_M+2\n",
    "                        M_order+=1\n",
    "                    index+=1"
   ]
  },
  {
   "cell_type": "code",
   "execution_count": 191,
   "metadata": {
    "collapsed": false
   },
   "outputs": [
    {
     "data": {
      "text/plain": [
       "6"
      ]
     },
     "execution_count": 191,
     "metadata": {},
     "output_type": "execute_result"
    }
   ],
   "source": [
    "# shuffle image order beforehand so aren't taking all the same\n",
    "index"
   ]
  },
  {
   "cell_type": "code",
   "execution_count": 187,
   "metadata": {
    "collapsed": false
   },
   "outputs": [
    {
     "name": "stdout",
     "output_type": "stream",
     "text": [
      "72\n",
      "72\n"
     ]
    }
   ],
   "source": [
    "import numpy as np\n",
    "# now do the same for objects\n",
    "O_order=0\n",
    "for f in folder: \n",
    "    left_rigth_O = [1,2]*6*3\n",
    "    random.shuffle(left_rigth_O)\n",
    "    c='objects'\n",
    "    c2 = 'object'\n",
    "    os.chdir('/Users/amennen/rtAttenPenn/FaceMatching/')\n",
    "    O = glob.glob('stimuli/'+c+'/'+c2+'*jpg')\n",
    "    #F= glob.glob('stimuli/'+c+'/F_'+f+'/'+c+'*jpg')\n",
    "    print(len(O))\n",
    "    if v == 1:\n",
    "        run=\"A\" if f==\"rad\" else \"B\"\n",
    "        if run==\"A\":\n",
    "            O=O[0:36]\n",
    "        else:\n",
    "            O=O[36:72]\n",
    "    elif v == 2:\n",
    "        run=\"B\" if f==\"rad\" else \"A\"\n",
    "        if run==\"A\":\n",
    "            O=O[36:72]\n",
    "        else:\n",
    "            O=O[0:36]\n",
    "    random.shuffle(O)\n",
    "    row_O=0\n",
    "    for i in range(1,4):\n",
    "        left_right_block = [1,2]*3\n",
    "        random.shuffle(left_right_block)\n",
    "        with open('/Users/amennen/rtAttenPenn/FaceMatching/blocks/ACM_'+str(v)+'_block_'+run+'_'+c+'_'+str(i)+'.csv', 'w') as csvfile:\n",
    "            condWriter = csv.writer(csvfile, delimiter=',',quotechar='|', quoting=csv.QUOTE_MINIMAL)\n",
    "            condWriter.writerow(('top_image','left_image', 'right_image','corr_ans'))\n",
    "            index = 0\n",
    "            for t in np.arange(6):\n",
    "                if left_right_block[index]==1:\n",
    "                    condWriter.writerow( (O[row_O],O[row_O],O[row_O+1],'1'))\n",
    "                else:\n",
    "                    condWriter.writerow( (O[row_O],O[row_O+1],O[row_O],'2'))\n",
    "                row_O=row_O+2\n",
    "                O_order+=1\n",
    "                index+=1"
   ]
  },
  {
   "cell_type": "code",
   "execution_count": 188,
   "metadata": {
    "collapsed": false
   },
   "outputs": [],
   "source": [
    "# now combine everything\n",
    "\n",
    "runs = ['A','B']\n",
    "for run in runs:\n",
    "    trial=1\n",
    "    \n",
    "    with open('/Users/amennen/rtAttenPenn/FaceMatching/ACM_'+str(v)+'_stimuli_'+run+'.csv', 'w') as csvfile:\n",
    "        stimWriter = csv.writer(csvfile, delimiter=',',quotechar='|', quoting=csv.QUOTE_MINIMAL)\n",
    "        stimWriter.writerow(('Run', 'Block', 'Trial', 'Fixation', 'Condition', 'corr_ans', 'corr_ans_Left', 'Correct_Answer_Side', 'top_image','left_image', 'right_image'))\n",
    "        for i in range(1,4):\n",
    "            ALLCONDITIONS = ['Happy','Fearful','Neutral', 'Object', 'Fixation']\n",
    "            random.shuffle(ALLCONDITIONS)\n",
    "            for c in ALLCONDITIONS:\n",
    "                \n",
    "                if c == 'Fixation':\n",
    "                    # make fixation trials\n",
    "                    topi = 'fixation.jpg'\n",
    "                    righti = 'fixation.jpg'\n",
    "                    lefti = 'fixation.jpg'\n",
    "                    corr=''\n",
    "                    side = 'NA'\n",
    "                    fix=1\n",
    "                    corr_ans_left = ''\n",
    "                    for t in np.arange(6): # write for 6 trials\n",
    "                        stimWriter.writerow((run, i, trial, fix, c, corr, corr_ans_left, side, topi,lefti, righti))\n",
    "                        trial+=1\n",
    "                else:\n",
    "                    if c == 'Fearful':\n",
    "                        c2 = 'fear'\n",
    "                    elif c == 'Happy':\n",
    "                        c2 = 'happy'\n",
    "                    elif c == 'Neutral':\n",
    "                        c2 = 'neutral'\n",
    "                    if c == 'Object':\n",
    "                        c2 = 'objects'\n",
    "                    with open('/Users/amennen/rtAttenPenn/FaceMatching/blocks/ACM_'+str(v)+'_block_'+run+'_'+c2+'_'+str(i)+'.csv', 'r') as csvfile:\n",
    "                        spamreader = csv.reader(csvfile, delimiter=',', quotechar='|')\n",
    "                        for row in spamreader:\n",
    "                            if row[0] != 'top_image': # only iterate on second + rows\n",
    "                                topi = row[0]\n",
    "                                lefti = row[1]\n",
    "                                righti =row[2]\n",
    "                                corr = row[3]\n",
    "                                fix=0\n",
    "                                if corr == '1':\n",
    "                                    corr_ans_left = '9'\n",
    "                                    side = 'L'\n",
    "                                else:\n",
    "                                    corr_ans_left = '8'\n",
    "                                    side = 'R'\n",
    "                                stimWriter.writerow((run, i, trial, fix, c, corr, corr_ans_left, side, topi,lefti, righti))\n",
    "                                trial+=1"
   ]
  },
  {
   "cell_type": "code",
   "execution_count": 117,
   "metadata": {
    "collapsed": false
   },
   "outputs": [
    {
     "name": "stdout",
     "output_type": "stream",
     "text": [
      "['top_image', 'left_image', 'right_image', 'corr_ans']\n",
      "['stimuli/fear/F_nim/fear_nim_f_06.jpg', 'stimuli/fear/F_nim/fear_nim_f_12.jpg', 'stimuli/fear/F_nim/fear_nim_f_06.jpg', '2']\n",
      "['stimuli/fear/F_nim/fear_nim_f_11.jpg', 'stimuli/fear/F_nim/fear_nim_f_11.jpg', 'stimuli/fear/F_nim/fear_nim_f_18.jpg', '1']\n",
      "['stimuli/fear/F_nim/fear_nim_f_00.jpg', 'stimuli/fear/F_nim/fear_nim_f_00.jpg', 'stimuli/fear/F_nim/fear_nim_f_03.jpg', '1']\n",
      "['stimuli/fear/M_nim/fear_nim_m_38.jpg', 'stimuli/fear/M_nim/fear_nim_m_38.jpg', 'stimuli/fear/M_nim/fear_nim_m_33.jpg', '1']\n",
      "['stimuli/fear/M_nim/fear_nim_m_26.jpg', 'stimuli/fear/M_nim/fear_nim_m_34.jpg', 'stimuli/fear/M_nim/fear_nim_m_26.jpg', '2']\n",
      "['stimuli/fear/M_nim/fear_nim_m_28.jpg', 'stimuli/fear/M_nim/fear_nim_m_30.jpg', 'stimuli/fear/M_nim/fear_nim_m_28.jpg', '2']\n"
     ]
    }
   ],
   "source": [
    "with open('/Users/amennen/rtAttenPenn/FaceMatching/blocks/ACM_1_block_'+run+'_'+c2+'_'+str(i)+'.csv', 'r') as csvfile:\n",
    "    spamreader = csv.reader(csvfile, delimiter=',', quotechar='|')\n",
    "    for row in spamreader:\n",
    "        print(row)"
   ]
  },
  {
   "cell_type": "code",
   "execution_count": 189,
   "metadata": {
    "collapsed": false
   },
   "outputs": [
    {
     "data": {
      "text/plain": [
       "['M', 'F', 'M', 'F', 'F', 'M']"
      ]
     },
     "execution_count": 189,
     "metadata": {},
     "output_type": "execute_result"
    }
   ],
   "source": [
    "gender"
   ]
  },
  {
   "cell_type": "code",
   "execution_count": 163,
   "metadata": {
    "collapsed": false
   },
   "outputs": [
    {
     "data": {
      "text/plain": [
       "array([1, 2])"
      ]
     },
     "execution_count": 163,
     "metadata": {},
     "output_type": "execute_result"
    }
   ],
   "source": [
    "t = [1,2]\n",
    "random.shuffle(t)\n",
    "np.save('testorder',t)\n",
    "z = np.load('testorder.npy')\n"
   ]
  },
  {
   "cell_type": "code",
   "execution_count": 141,
   "metadata": {
    "collapsed": false
   },
   "outputs": [],
   "source": [
    "from datetime import datetime\n",
    "random.seed(datetime.now())"
   ]
  },
  {
   "cell_type": "code",
   "execution_count": 166,
   "metadata": {
    "collapsed": false
   },
   "outputs": [
    {
     "name": "stdout",
     "output_type": "stream",
     "text": [
      "ACM_1_stimuli_A.csv\n"
     ]
    }
   ],
   "source": [
    "today_type=0\n",
    "r=\"A\"\n",
    "conditionFile='ACM_'+str(today_type+1)+'_stimuli_'+r+'.csv'\n",
    "print(conditionFile)"
   ]
  },
  {
   "cell_type": "code",
   "execution_count": null,
   "metadata": {
    "collapsed": true
   },
   "outputs": [],
   "source": []
  }
 ],
 "metadata": {
  "kernelspec": {
   "display_name": "Python 3",
   "language": "python",
   "name": "python3"
  },
  "language_info": {
   "codemirror_mode": {
    "name": "ipython",
    "version": 3
   },
   "file_extension": ".py",
   "mimetype": "text/x-python",
   "name": "python",
   "nbconvert_exporter": "python",
   "pygments_lexer": "ipython3",
   "version": "3.5.2"
  }
 },
 "nbformat": 4,
 "nbformat_minor": 2
}
